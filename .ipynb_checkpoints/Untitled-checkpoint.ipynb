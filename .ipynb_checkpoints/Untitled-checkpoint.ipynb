{
 "cells": [
  {
   "cell_type": "markdown",
   "id": "43c1fa81",
   "metadata": {},
   "source": [
    "Load Packages and data"
   ]
  },
  {
   "cell_type": "code",
   "execution_count": 146,
   "id": "a57f0400",
   "metadata": {},
   "outputs": [],
   "source": [
    "import numpy as np\n",
    "import pandas as pd\n",
    "\n",
    "cado = pd.read_csv(r\"C:\\Users\\tuke-\\Desktop\\1_GSB544_Computing_and_Machine_Learning\\Week_2\\LAB2\\data\\avocado-updated-2020.csv\")"
   ]
  },
  {
   "cell_type": "markdown",
   "id": "63ba4dc4",
   "metadata": {},
   "source": [
    "Using a for loop to categorize variables. (Chat GPT was used to troubleshoot/find the exact loop format)"
   ]
  },
  {
   "cell_type": "code",
   "execution_count": 147,
   "id": "ee9639e0",
   "metadata": {},
   "outputs": [],
   "source": [
    "for i in cado.index:\n",
    "    if cado.loc[i, 'geography'] in ['California', 'South Carolina', 'West Tex/New Mexico', 'Northern New England']:\n",
    "        cado.loc[i, 'region_type'] = 'state'\n",
    "    elif cado.loc[i, 'geography'] in ['Midsouth', 'Northeast', 'Southeast', 'West']:\n",
    "        cado.loc[i, 'region_type'] = 'major'\n",
    "    elif cado.loc[i, 'geography'] in ['Total U.S']:\n",
    "        cado.loc[i, 'region_type'] = 'us'\n",
    "    else: \n",
    "        cado.loc[i, 'region_type'] = 'metro'\n",
    "\n",
    "# Renaming columns for avocado sizes, also renaming the year column ahead of following problems\n",
    "cado = cado.rename(columns={'4046': 'small_hass', \n",
    "                            '4225': 'large_hass', \n",
    "                            '4770': 'xlarge_hass',\n",
    "                           'year': '_year'})\n"
   ]
  },
  {
   "cell_type": "markdown",
   "id": "e0c892a3",
   "metadata": {},
   "source": [
    "This is a savepoint:"
   ]
  },
  {
   "cell_type": "code",
   "execution_count": 189,
   "id": "86718b4d",
   "metadata": {},
   "outputs": [
    {
     "name": "stdout",
     "output_type": "stream",
     "text": [
      "        date  average_price  total_volume  small_hass  large_hass  \\\n",
      "0 2015-01-04           1.22      40873.28     2819.50    28287.42   \n",
      "1 2015-01-04           1.79       1373.95       57.42      153.88   \n",
      "2 2015-01-04           1.00     435021.49   364302.39    23821.16   \n",
      "3 2015-01-04           1.76       3846.69     1500.15      938.35   \n",
      "4 2015-01-04           1.08     788025.06    53987.31   552906.04   \n",
      "\n",
      "   xlarge_hass  total_bags  small_bags  large_bags  xlarge_bags          type  \\\n",
      "0        49.90     9716.46     9186.93      529.53          0.0  conventional   \n",
      "1         0.00     1162.65     1162.65        0.00          0.0       organic   \n",
      "2        82.15    46815.79    16707.15    30108.64          0.0  conventional   \n",
      "3         0.00     1408.19     1071.35      336.84          0.0       organic   \n",
      "4     39995.03   141136.68   137146.07     3990.61          0.0  conventional   \n",
      "\n",
      "   _year             geography region_type  year  month  day  \n",
      "0   2015                Albany       metro  2015      1    4  \n",
      "1   2015                Albany       metro  2015      1    4  \n",
      "2   2015               Atlanta       metro  2015      1    4  \n",
      "3   2015               Atlanta       metro  2015      1    4  \n",
      "4   2015  Baltimore/Washington       metro  2015      1    4  \n"
     ]
    }
   ],
   "source": [
    "avocado_clean = cado\n",
    "print(avocado_clean.head())"
   ]
  },
  {
   "cell_type": "markdown",
   "id": "85d93d8f",
   "metadata": {},
   "source": [
    "Question 3:"
   ]
  },
  {
   "cell_type": "code",
   "execution_count": 190,
   "id": "eb0de1bf",
   "metadata": {},
   "outputs": [
    {
     "name": "stdout",
     "output_type": "stream",
     "text": [
      "The highest sales for a major region were in the: West\n"
     ]
    }
   ],
   "source": [
    "#Filter data to include major region with organic avocados in 2017\n",
    "avocado_major_organic_2017 = avocado_clean[(avocado_clean['region_type'] == 'major') &\n",
    "                                        (avocado_clean['type'] == 'organic') &\n",
    "                                        (avocado_clean['_year'] == 2017)]\n",
    "#Take the sum of small hass based on grouping in mojor regions\n",
    "avocado_major_organic_2017_sum = avocado_major_organic_2017.groupby('geography')['small_hass'].sum()\n",
    "\n",
    "print('The highest sales for a major region were in the: ' + avocado_major_organic_2017_sum.idxmax())"
   ]
  },
  {
   "cell_type": "markdown",
   "id": "96c18e3a",
   "metadata": {},
   "source": [
    "Question 4:"
   ]
  },
  {
   "cell_type": "code",
   "execution_count": 200,
   "id": "b5318211",
   "metadata": {},
   "outputs": [
    {
     "name": "stdout",
     "output_type": "stream",
     "text": [
      "The highest average avogado sales are in month 5 of year 2020\n"
     ]
    }
   ],
   "source": [
    "avocado_clean = cado\n",
    "\n",
    "avocado_clean['year'] = avocado_clean['date'].dt.year\n",
    "avocado_clean['month'] = avocado_clean['date'].dt.month\n",
    "avocado_clean['day'] = avocado_clean['date'].dt.day\n",
    "\n",
    "avocado_clean = avocado_clean.drop('date', axis = 1)\n",
    "\n",
    "avocado_month_avg = avocado_clean.groupby(['year', 'month'])['total_volume'].mean()\n",
    "\n",
    "max_mean = avocado_month_avg.idxmax()\n",
    "print(f'The highest average avogado sales are in month {max_mean[1]} of year {max_mean[0]}')"
   ]
  },
  {
   "cell_type": "markdown",
   "id": "8e2fef91",
   "metadata": {},
   "source": [
    "Question 5:"
   ]
  },
  {
   "cell_type": "code",
   "execution_count": null,
   "id": "398d62c2",
   "metadata": {},
   "outputs": [],
   "source": []
  }
 ],
 "metadata": {
  "kernelspec": {
   "display_name": "Python 3 (ipykernel)",
   "language": "python",
   "name": "python3"
  },
  "language_info": {
   "codemirror_mode": {
    "name": "ipython",
    "version": 3
   },
   "file_extension": ".py",
   "mimetype": "text/x-python",
   "name": "python",
   "nbconvert_exporter": "python",
   "pygments_lexer": "ipython3",
   "version": "3.11.4"
  }
 },
 "nbformat": 4,
 "nbformat_minor": 5
}
